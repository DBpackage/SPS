{
 "cells": [
  {
   "cell_type": "markdown",
   "metadata": {},
   "source": [
    "#### Grouping\n",
    "\n",
    "Three files(fa, acc, ss3) will be used as input files for grouping.\n",
    "\n",
    "Maybe .fa file name is still like 'Mydata{0}.fa'.\n",
    "\n",
    "No matter change file name first or not, but our codes not use the name 'Mydata0.fa'. Rather we use 'before_My_0.fa'.\n",
    "\n",
    "AND DO NOT USE .faa file which is output file from SCRATCH-1D. YOU MUST USE .fa file for grouping.\n",
    "\n",
    "Before grouping, running below codes. These will make the files into grouping format."
   ]
  },
  {
   "cell_type": "code",
   "execution_count": 8,
   "metadata": {},
   "outputs": [],
   "source": [
    "file_index = '2' # index of the files"
   ]
  },
  {
   "cell_type": "code",
   "execution_count": 9,
   "metadata": {
    "scrolled": true
   },
   "outputs": [],
   "source": [
    "# fasta file\n",
    "# Change the file name first : 'Mydata0.fa' into 'before_My_0.fa'\n",
    "with open('before_My_{}.fa'.format(file_index), 'r') as f_in:\n",
    "    first_line = f_in.readline().strip()\n",
    "    if first_line.startswith('>'):\n",
    "        # Extract the index from the line (excluding '>')\n",
    "        idx = int(first_line[1:])\n",
    "        idx_iter = idx\n",
    "\n",
    "with open('before_My_{}.fa'.format(file_index), 'r') as f_in, open('after_My_{}.fa'.format(file_index), 'w') as f_out:\n",
    "    #index = 0\n",
    "    for line in f_in:\n",
    "        if line.startswith('>'):\n",
    "            fr = f'>{idx_iter}\\n'\n",
    "            f_out.write(fr)\n",
    "            idx_iter +=1\n",
    "        else:\n",
    "            f_out.write(line)\n",
    "            \n",
    "idx_iter = idx\n",
    "\n",
    "# ACC file\n",
    "with open('before_My_{}.acc'.format(file_index), 'r') as f_in, open('after_My_{}.acc'.format(file_index), 'w') as f_out:\n",
    "    # idx=0\n",
    "    for line in f_in:\n",
    "        fr = f'>{idx_iter}\\n'\n",
    "        if line.startswith('e') or line.startswith('-'): \n",
    "            text = line   \n",
    "            f_out.write(fr)\n",
    "            f_out.write(text)\n",
    "            idx_iter += 1\n",
    "\n",
    "idx_iter = idx\n",
    "\n",
    "# SS3 file\n",
    "with open('before_My_{}.ss3'.format(file_index), 'r') as f_in, open('after_My_{}.ss3'.format(file_index), 'w') as f_out:\n",
    "    # idx = 0\n",
    "    cnt = 0\n",
    "    for line in f_in:\n",
    "        if cnt % 4 == 0:\n",
    "            fr = f'>{idx_iter}\\n'\n",
    "            idx_iter +=1\n",
    "            f_out.write(fr)\n",
    "        if cnt % 4 == 2:\n",
    "            text = line\n",
    "            f_out.write(text)\n",
    "        \n",
    "        cnt +=1\n",
    "        \n",
    "idx_iter = idx"
   ]
  },
  {
   "cell_type": "markdown",
   "metadata": {},
   "source": [
    "#### If there are failed data to make ss3 and acc files, you should check the .log file then you can find the failed fasta index\n",
    "#### input the failed index and run this line with only '.fa' file, \n",
    "#### AGAIN, DO NOT RUN THIS CODE TO ss3 and acc files! ONLY FOR '.fa' FILES."
   ]
  },
  {
   "cell_type": "code",
   "execution_count": 1,
   "metadata": {},
   "outputs": [],
   "source": [
    "def remove_fasta_entries(input_file, output_file, entry_indices_to_remove):\n",
    "    global idx_iter\n",
    "    # Read the Fasta file\n",
    "    with open(input_file, 'r') as input_fasta:\n",
    "        lines = input_fasta.readlines()\n",
    "\n",
    "    # Create a dictionary to store the Fasta entries\n",
    "    fasta_entries = {}\n",
    "    current_entry_index = idx_iter\n",
    "    current_entry_lines = []\n",
    "\n",
    "    # Process the lines and store entries\n",
    "    for line in lines:\n",
    "        if line.startswith('>'):\n",
    "            if current_entry_index is not None:\n",
    "                fasta_entries[current_entry_index] = current_entry_lines\n",
    "            current_entry_index = int(line[1:].strip())\n",
    "            current_entry_lines = [line]\n",
    "            #print(\"current_entry_lines : \", current_entry_lines)\n",
    "        else:\n",
    "            current_entry_lines.append(line)\n",
    "\n",
    "    if current_entry_index is not None:\n",
    "        fasta_entries[current_entry_index] = current_entry_lines\n",
    "\n",
    "    # Remove the specified entries\n",
    "    removed_entries = {}\n",
    "    for entry_index_to_remove in entry_indices_to_remove:\n",
    "        if entry_index_to_remove in fasta_entries:\n",
    "            removed_entries[entry_index_to_remove] = fasta_entries[entry_index_to_remove]\n",
    "\n",
    "    # Remove the entries from the original dictionary\n",
    "    for entry_index in removed_entries:\n",
    "        del fasta_entries[entry_index]\n",
    "    \n",
    "    # Update the indices and write the modified Fasta file\n",
    "    with open(output_file, 'w') as output_fasta:\n",
    "        for entry_lines in fasta_entries.values():\n",
    "            updated_entry = f'>{idx_iter}\\n'\n",
    "            updated_entry += ''.join(entry_lines[1:])\n",
    "            idx_iter += 1\n",
    "            output_fasta.write(updated_entry)"
   ]
  },
  {
   "cell_type": "code",
   "execution_count": 10,
   "metadata": {},
   "outputs": [],
   "source": [
    "# Example usage:\n",
    "input_file = \"after_My_2.fa\" # the file which you want to remove failed index\n",
    "output_file = \"after_My_2.fa\" # If you want to compare with original file, change the output file name.\n",
    "entry_indices_to_remove = [738] # Again, You can find these failed enetries index in .log file\n",
    "\n",
    "# [189]\n",
    "# [22, 53, 121, 128]\n",
    "# [5,17,33,47,57,64,65,82,95,99,102,106,122,124,129,140,148,155,169,176]\n",
    "# ... Whatever\n",
    "\n",
    "remove_fasta_entries(input_file, output_file, entry_indices_to_remove)"
   ]
  },
  {
   "cell_type": "markdown",
   "metadata": {},
   "source": [
    "Move extracted three 'after' files to DeepAffinity grouping directory\n",
    "\n",
    "/YOUR/PATH/TO/DeepAffinity/data/script/split_data_script/pfam/our_format\n",
    "\n",
    "python group.py -a after_My_0.acc -s after_My_0.ss3 -p after_My_0.fa\n",
    "\n",
    "Then you will get 'protein_grouped_finalPresentation'\n",
    "\n",
    "#### Do these step manually.\n",
    "\n",
    "1. Make index prefix for each output file. For example, If you used 0 index files, make output file name into '0_protein_grouped_finalPresentation'\n",
    "\n",
    "2. Open n_protein_grouped_finalPresentation file and remove the bottom \\n(blank) line."
   ]
  },
  {
   "cell_type": "markdown",
   "metadata": {},
   "source": [
    "#### After grouping, Make Final DataFrame"
   ]
  },
  {
   "cell_type": "code",
   "execution_count": 16,
   "metadata": {},
   "outputs": [
    {
     "name": "stdout",
     "output_type": "stream",
     "text": [
      "249\n",
      "249\n"
     ]
    }
   ],
   "source": [
    "import pandas as pd\n",
    "\n",
    "file_index = '2'\n",
    "\n",
    "with open('./{}_protein_grouped_finalPresentation'.format(file_index), 'r') as f:\n",
    "    lines = f.read().split('\\n')\n",
    "\n",
    "AA = []\n",
    "SPS = []\n",
    "\n",
    "for i, line in enumerate(lines):\n",
    "    if i % 2 == 0:\n",
    "        AA.append(line)\n",
    "    else:\n",
    "        SPS.append(line)\n",
    "\n",
    "print(len(AA))\n",
    "print(len(SPS))\n",
    "\n",
    "df = pd.DataFrame({'sequence': AA, 'sps': SPS})\n",
    "df.to_csv('./Final_My_{}.csv'.format(file_index), sep=',', index=False)"
   ]
  },
  {
   "cell_type": "markdown",
   "metadata": {},
   "source": [
    "#### Make all Final_My_{}.csv files for each divided files and merge them with your own protein table on protein sequence column.\n",
    "\n",
    "now you are ready to use your own SPS."
   ]
  },
  {
   "cell_type": "code",
   "execution_count": null,
   "metadata": {},
   "outputs": [],
   "source": []
  }
 ],
 "metadata": {
  "kernelspec": {
   "display_name": "base",
   "language": "python",
   "name": "python3"
  },
  "language_info": {
   "codemirror_mode": {
    "name": "ipython",
    "version": 3
   },
   "file_extension": ".py",
   "mimetype": "text/x-python",
   "name": "python",
   "nbconvert_exporter": "python",
   "pygments_lexer": "ipython3",
   "version": "3.11.7"
  }
 },
 "nbformat": 4,
 "nbformat_minor": 4
}
