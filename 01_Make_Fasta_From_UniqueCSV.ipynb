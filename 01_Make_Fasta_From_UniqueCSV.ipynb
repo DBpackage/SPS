{
 "cells": [
  {
   "cell_type": "code",
   "execution_count": 2,
   "metadata": {
    "scrolled": false
   },
   "outputs": [
    {
     "data": {
      "text/html": [
       "<div>\n",
       "<style scoped>\n",
       "    .dataframe tbody tr th:only-of-type {\n",
       "        vertical-align: middle;\n",
       "    }\n",
       "\n",
       "    .dataframe tbody tr th {\n",
       "        vertical-align: top;\n",
       "    }\n",
       "\n",
       "    .dataframe thead th {\n",
       "        text-align: right;\n",
       "    }\n",
       "</style>\n",
       "<table border=\"1\" class=\"dataframe\">\n",
       "  <thead>\n",
       "    <tr style=\"text-align: right;\">\n",
       "      <th></th>\n",
       "      <th>sequence</th>\n",
       "    </tr>\n",
       "  </thead>\n",
       "  <tbody>\n",
       "    <tr>\n",
       "      <th>0</th>\n",
       "      <td>MGSAVAEQGVWQLLLVTFVSYALLPVRSLLAIGFGLVVAASHLLVT...</td>\n",
       "    </tr>\n",
       "    <tr>\n",
       "      <th>1</th>\n",
       "      <td>MVTRTRETWGKKIDFLLSVVGFAVDLANVWRFPYLCYKNGGGAFLI...</td>\n",
       "    </tr>\n",
       "    <tr>\n",
       "      <th>2</th>\n",
       "      <td>MPRTEMVRFVRLPVVLLAMAACLASVALGSLHVEESLEMRFAAFKK...</td>\n",
       "    </tr>\n",
       "    <tr>\n",
       "      <th>3</th>\n",
       "      <td>RWTGRQKARGAATRARQKQRASLETMDKAVQRFRLQNPDLDSEALL...</td>\n",
       "    </tr>\n",
       "    <tr>\n",
       "      <th>4</th>\n",
       "      <td>PISPITVPVKLKPGMDGPKVKQWPLTEEKIKALTEICTEMEKEGKI...</td>\n",
       "    </tr>\n",
       "    <tr>\n",
       "      <th>...</th>\n",
       "      <td>...</td>\n",
       "    </tr>\n",
       "    <tr>\n",
       "      <th>747</th>\n",
       "      <td>MKVAVLPGDGIGPEVTEAALKVLRALDEAEGLGLAYEVFPFGGAAI...</td>\n",
       "    </tr>\n",
       "    <tr>\n",
       "      <th>748</th>\n",
       "      <td>MADKKKYLEDNLDYVRTALMHEPRGHNDMFGSIITSSNNKEADFGI...</td>\n",
       "    </tr>\n",
       "    <tr>\n",
       "      <th>749</th>\n",
       "      <td>MKIVCIGAAPTALGAAYRLNELKNEGNEAAQNAEIVLLEQEAIAGG...</td>\n",
       "    </tr>\n",
       "    <tr>\n",
       "      <th>750</th>\n",
       "      <td>MWCLTPIRLSFPARLIPMSDFDLIVVGSGLFGLTVAERAASQLGKK...</td>\n",
       "    </tr>\n",
       "    <tr>\n",
       "      <th>751</th>\n",
       "      <td>MTDAGRQGRVEALSISVTAPYCRFEKTGSPDLEGDETVLGLIEHGT...</td>\n",
       "    </tr>\n",
       "  </tbody>\n",
       "</table>\n",
       "<p>752 rows × 1 columns</p>\n",
       "</div>"
      ],
      "text/plain": [
       "                                              sequence\n",
       "0    MGSAVAEQGVWQLLLVTFVSYALLPVRSLLAIGFGLVVAASHLLVT...\n",
       "1    MVTRTRETWGKKIDFLLSVVGFAVDLANVWRFPYLCYKNGGGAFLI...\n",
       "2    MPRTEMVRFVRLPVVLLAMAACLASVALGSLHVEESLEMRFAAFKK...\n",
       "3    RWTGRQKARGAATRARQKQRASLETMDKAVQRFRLQNPDLDSEALL...\n",
       "4    PISPITVPVKLKPGMDGPKVKQWPLTEEKIKALTEICTEMEKEGKI...\n",
       "..                                                 ...\n",
       "747  MKVAVLPGDGIGPEVTEAALKVLRALDEAEGLGLAYEVFPFGGAAI...\n",
       "748  MADKKKYLEDNLDYVRTALMHEPRGHNDMFGSIITSSNNKEADFGI...\n",
       "749  MKIVCIGAAPTALGAAYRLNELKNEGNEAAQNAEIVLLEQEAIAGG...\n",
       "750  MWCLTPIRLSFPARLIPMSDFDLIVVGSGLFGLTVAERAASQLGKK...\n",
       "751  MTDAGRQGRVEALSISVTAPYCRFEKTGSPDLEGDETVLGLIEHGT...\n",
       "\n",
       "[752 rows x 1 columns]"
      ]
     },
     "execution_count": 2,
     "metadata": {},
     "output_type": "execute_result"
    }
   ],
   "source": [
    "import pandas as pd\n",
    "\n",
    "# input your unique protein csv file made from 00_Make_Unique_protein_sequences\n",
    "df = pd.read_csv('./Unique_Protein.csv') \n",
    "\n",
    "df"
   ]
  },
  {
   "cell_type": "code",
   "execution_count": 3,
   "metadata": {},
   "outputs": [
    {
     "name": "stdout",
     "output_type": "stream",
     "text": [
      "752\n"
     ]
    }
   ],
   "source": [
    "unique_sequence_df = pd.DataFrame({'sequence': df['sequence'].unique()}) # double check for duplications\n",
    "\n",
    "print(len(unique_sequence_df)) # number of unique protein sequences in your data"
   ]
  },
  {
   "cell_type": "code",
   "execution_count": 4,
   "metadata": {},
   "outputs": [
    {
     "name": "stdout",
     "output_type": "stream",
     "text": [
      "Confirm No duplicates\n"
     ]
    }
   ],
   "source": [
    "if (df['sequence'] == unique_sequence_df['sequence']).sum() == len(unique_sequence_df):\n",
    "    print(\"Confirm No duplicates\")\n",
    "else:\n",
    "    print(\"ERROR\")"
   ]
  },
  {
   "cell_type": "code",
   "execution_count": 10,
   "metadata": {},
   "outputs": [
    {
     "name": "stdout",
     "output_type": "stream",
     "text": [
      "752\n",
      "251\n",
      "div_num : 251\n"
     ]
    }
   ],
   "source": [
    "print(len(unique_sequence_df)) # Total number of your unique proteins\n",
    "\n",
    "# You should divide the unique sequences around 200.\n",
    "\n",
    "print(int(len(unique_sequence_df)/3)+1)\n",
    "div_num = int(len(unique_sequence_df)/3)+1\n",
    "\n",
    "print(\"div_num :\",div_num)\n",
    "\n",
    "# Or if you think you don't need to divide the proteins, "
   ]
  },
  {
   "cell_type": "code",
   "execution_count": 11,
   "metadata": {},
   "outputs": [],
   "source": [
    "# Initialize the line counter and output file counter\n",
    "line_count = 0\n",
    "string_count = 0\n",
    "output_file_count = 0\n",
    "\n",
    "for item in unique_sequence_df['sequence']:\n",
    "    # Open the output file for writing if the line count is 0 (i.e. we are starting a new file)\n",
    "    if line_count == 0:\n",
    "        output_file = open(f\"Mydata{output_file_count}.fa\", \"w\")\n",
    "\n",
    "    # Write the line to the output file\n",
    "    output_file.write(f\">{string_count}\\n\")\n",
    "    output_file.write(item)\n",
    "    output_file.write(\"\\n\")\n",
    "    \n",
    "    # Increment the string count\n",
    "    string_count+=1\n",
    "    \n",
    "    # Increment the line count\n",
    "    line_count += 1\n",
    "\n",
    "    # If we have reached the maximum number of lines per file, close the current output file\n",
    "    # and reset the line count and output file counter\n",
    "    \n",
    "    if line_count == div_num:\n",
    "        output_file.close()\n",
    "        line_count = 0\n",
    "        output_file_count += 1\n",
    "    \n",
    "output_file.close()"
   ]
  },
  {
   "cell_type": "markdown",
   "metadata": {},
   "source": [
    "#### 1.  Use each Fasta File as input for SCARTCH-1D. \n",
    "You will get five files (acc, ss3, ss8, rsa, dat) if there is no error during processing.\n",
    "\n",
    "else, if you have any error during processing, you will get additional two files (log, faa).\n",
    "\n",
    "\n",
    "YOURPATH/TO/bin/run_scratch1d_predictors.sh --input_fasta YOUR_FASTA.fa --output_prefix 'before_My_0' --num_threads YOUR CPU NUM_WORKERS\n",
    "\n",
    "- set path where run_scratch1d_predictors.sh is located.\n",
    "- --input_fasta is necessary to run. input your fasta files.\n",
    "- --output_prefix I highly recommend do not change for compatibility with downstream processing codes. only change the index number [0] to input fasta index.\n",
    "- --num_threads not necessary. If you know your system, go ahead.\n",
    "\n",
    "for example\n",
    "\n",
    "nohup ../../bin/run_scratch1d_predictors.sh --input_fasta Mydata5.fa --output_prefix 'before_My_5' --num_threads 20 &\n",
    "\n",
    "!! HIGHLY RECOMMEND USE NOHUP\n",
    "\n",
    "#### 2. Move ss3, fa, acc to 02_Processing_4_SPS path\n",
    "- To avoid confusion, make new folder to process SPS.\n",
    "- As I mentioned, if there is any failure you will get additional .faa and .log files. Not .faa file but .fa which used as input fasta should be moved.\n",
    "- HIGHLY RECOMMEND BACKUP THE WHOLE OUTPUT FILES BEFORE NEXT STEP!!!\n"
   ]
  },
  {
   "cell_type": "code",
   "execution_count": null,
   "metadata": {},
   "outputs": [],
   "source": [
    "nohup ../../bin/run_scratch1d_predictors.sh --input_fasta Mydata0.fa --output_prefix 'before_My_0' --num_threads 20 &"
   ]
  }
 ],
 "metadata": {
  "kernelspec": {
   "display_name": "base",
   "language": "python",
   "name": "python3"
  },
  "language_info": {
   "codemirror_mode": {
    "name": "ipython",
    "version": 3
   },
   "file_extension": ".py",
   "mimetype": "text/x-python",
   "name": "python",
   "nbconvert_exporter": "python",
   "pygments_lexer": "ipython3",
   "version": "3.11.7"
  }
 },
 "nbformat": 4,
 "nbformat_minor": 4
}
